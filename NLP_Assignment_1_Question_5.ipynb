{
 "cells": [
  {
   "cell_type": "markdown",
   "metadata": {
    "id": "C-VS-bKWHRyj"
   },
   "source": [
    "# Questions 5: Optimising pre-processing and feature extraction (30 marks)"
   ]
  },
  {
   "cell_type": "code",
   "execution_count": 1,
   "metadata": {
    "colab": {
     "base_uri": "https://localhost:8080/",
     "height": 1000
    },
    "id": "U6VDUxuJuGdN",
    "outputId": "5328b898-7843-43cf-f085-d5ad1ca2eae5"
   },
   "outputs": [
    {
     "name": "stderr",
     "output_type": "stream",
     "text": [
      "[nltk_data] Downloading package punkt to\n",
      "[nltk_data]     C:\\Users\\Admin\\AppData\\Roaming\\nltk_data...\n",
      "[nltk_data]   Package punkt is already up-to-date!\n",
      "[nltk_data] Downloading package wordnet to\n",
      "[nltk_data]     C:\\Users\\Admin\\AppData\\Roaming\\nltk_data...\n",
      "[nltk_data]   Package wordnet is already up-to-date!\n",
      "[nltk_data] Downloading package stopwords to\n",
      "[nltk_data]     C:\\Users\\Admin\\AppData\\Roaming\\nltk_data...\n",
      "[nltk_data]   Package stopwords is already up-to-date!\n"
     ]
    },
    {
     "name": "stdout",
     "output_type": "stream",
     "text": [
      "Now 0 rawData, 0 trainData, 0 testData\n",
      "Preparing the dataset...\n",
      "Now 33540 rawData, 0 trainData, 0 testData\n",
      "Preparing training and test data...\n",
      "After split, 33540 rawData, 26832 trainData, 6708 testData\n",
      "Training Samples: \n",
      "26832\n",
      "Features: \n",
      "308051\n",
      "Fold start on items 0 - 2683\n",
      "Training Classifier...\n"
     ]
    },
    {
     "name": "stderr",
     "output_type": "stream",
     "text": [
      "C:\\Users\\Admin\\anaconda3\\Lib\\site-packages\\sklearn\\svm\\_classes.py:32: FutureWarning: The default value of `dual` will change from `True` to `'auto'` in 1.5. Set the value of `dual` explicitly to suppress the warning.\n",
      "  warnings.warn(\n"
     ]
    },
    {
     "name": "stdout",
     "output_type": "stream",
     "text": [
      "Fold start on items 2683 - 5366\n",
      "Training Classifier...\n"
     ]
    },
    {
     "name": "stderr",
     "output_type": "stream",
     "text": [
      "C:\\Users\\Admin\\anaconda3\\Lib\\site-packages\\sklearn\\svm\\_classes.py:32: FutureWarning: The default value of `dual` will change from `True` to `'auto'` in 1.5. Set the value of `dual` explicitly to suppress the warning.\n",
      "  warnings.warn(\n"
     ]
    },
    {
     "name": "stdout",
     "output_type": "stream",
     "text": [
      "Fold start on items 5366 - 8049\n",
      "Training Classifier...\n"
     ]
    },
    {
     "name": "stderr",
     "output_type": "stream",
     "text": [
      "C:\\Users\\Admin\\anaconda3\\Lib\\site-packages\\sklearn\\svm\\_classes.py:32: FutureWarning: The default value of `dual` will change from `True` to `'auto'` in 1.5. Set the value of `dual` explicitly to suppress the warning.\n",
      "  warnings.warn(\n"
     ]
    },
    {
     "name": "stdout",
     "output_type": "stream",
     "text": [
      "Fold start on items 8049 - 10732\n",
      "Training Classifier...\n"
     ]
    },
    {
     "name": "stderr",
     "output_type": "stream",
     "text": [
      "C:\\Users\\Admin\\anaconda3\\Lib\\site-packages\\sklearn\\svm\\_classes.py:32: FutureWarning: The default value of `dual` will change from `True` to `'auto'` in 1.5. Set the value of `dual` explicitly to suppress the warning.\n",
      "  warnings.warn(\n"
     ]
    },
    {
     "name": "stdout",
     "output_type": "stream",
     "text": [
      "Fold start on items 10732 - 13415\n",
      "Training Classifier...\n"
     ]
    },
    {
     "name": "stderr",
     "output_type": "stream",
     "text": [
      "C:\\Users\\Admin\\anaconda3\\Lib\\site-packages\\sklearn\\svm\\_classes.py:32: FutureWarning: The default value of `dual` will change from `True` to `'auto'` in 1.5. Set the value of `dual` explicitly to suppress the warning.\n",
      "  warnings.warn(\n"
     ]
    },
    {
     "name": "stdout",
     "output_type": "stream",
     "text": [
      "Fold start on items 13415 - 16098\n",
      "Training Classifier...\n"
     ]
    },
    {
     "name": "stderr",
     "output_type": "stream",
     "text": [
      "C:\\Users\\Admin\\anaconda3\\Lib\\site-packages\\sklearn\\svm\\_classes.py:32: FutureWarning: The default value of `dual` will change from `True` to `'auto'` in 1.5. Set the value of `dual` explicitly to suppress the warning.\n",
      "  warnings.warn(\n"
     ]
    },
    {
     "name": "stdout",
     "output_type": "stream",
     "text": [
      "Fold start on items 16098 - 18781\n",
      "Training Classifier...\n"
     ]
    },
    {
     "name": "stderr",
     "output_type": "stream",
     "text": [
      "C:\\Users\\Admin\\anaconda3\\Lib\\site-packages\\sklearn\\svm\\_classes.py:32: FutureWarning: The default value of `dual` will change from `True` to `'auto'` in 1.5. Set the value of `dual` explicitly to suppress the warning.\n",
      "  warnings.warn(\n"
     ]
    },
    {
     "name": "stdout",
     "output_type": "stream",
     "text": [
      "Fold start on items 18781 - 21464\n",
      "Training Classifier...\n"
     ]
    },
    {
     "name": "stderr",
     "output_type": "stream",
     "text": [
      "C:\\Users\\Admin\\anaconda3\\Lib\\site-packages\\sklearn\\svm\\_classes.py:32: FutureWarning: The default value of `dual` will change from `True` to `'auto'` in 1.5. Set the value of `dual` explicitly to suppress the warning.\n",
      "  warnings.warn(\n"
     ]
    },
    {
     "name": "stdout",
     "output_type": "stream",
     "text": [
      "Fold start on items 21464 - 24147\n",
      "Training Classifier...\n"
     ]
    },
    {
     "name": "stderr",
     "output_type": "stream",
     "text": [
      "C:\\Users\\Admin\\anaconda3\\Lib\\site-packages\\sklearn\\svm\\_classes.py:32: FutureWarning: The default value of `dual` will change from `True` to `'auto'` in 1.5. Set the value of `dual` explicitly to suppress the warning.\n",
      "  warnings.warn(\n"
     ]
    },
    {
     "name": "stdout",
     "output_type": "stream",
     "text": [
      "Fold start on items 24147 - 26830\n",
      "Training Classifier...\n"
     ]
    },
    {
     "name": "stderr",
     "output_type": "stream",
     "text": [
      "C:\\Users\\Admin\\anaconda3\\Lib\\site-packages\\sklearn\\svm\\_classes.py:32: FutureWarning: The default value of `dual` will change from `True` to `'auto'` in 1.5. Set the value of `dual` explicitly to suppress the warning.\n",
      "  warnings.warn(\n"
     ]
    },
    {
     "name": "stdout",
     "output_type": "stream",
     "text": [
      "Cross-validation results:\n",
      "precision: 0.8448404241943409\n",
      "recall: 0.8466641818859486\n",
      "f1: 0.8452465472145608\n",
      "accuracy: 0.8466641818859486\n",
      "Training Classifier...\n"
     ]
    },
    {
     "name": "stderr",
     "output_type": "stream",
     "text": [
      "C:\\Users\\Admin\\anaconda3\\Lib\\site-packages\\sklearn\\svm\\_classes.py:32: FutureWarning: The default value of `dual` will change from `True` to `'auto'` in 1.5. Set the value of `dual` explicitly to suppress the warning.\n",
      "  warnings.warn(\n"
     ]
    },
    {
     "name": "stdout",
     "output_type": "stream",
     "text": [
      "The confusion matrix: \n"
     ]
    },
    {
     "data": {
      "image/png": "[encoded data removed]",
      "text/plain": [
       "<Figure size 1000x1000 with 2 Axes>"
      ]
     },
     "metadata": {},
     "output_type": "display_data"
    }
   ],
   "source": [
    "# 5th question working (Iteration 1)\n",
    "import nltk\n",
    "nltk.download('punkt')\n",
    "nltk.download('wordnet')\n",
    "nltk.download('stopwords')\n",
    "import csv\n",
    "from sklearn.svm import LinearSVC\n",
    "from nltk.classify import SklearnClassifier\n",
    "from sklearn.pipeline import Pipeline\n",
    "from sklearn.feature_extraction.text import TfidfVectorizer\n",
    "from sklearn.feature_selection import SelectKBest, chi2\n",
    "from sklearn.metrics import precision_recall_fscore_support, accuracy_score, confusion_matrix\n",
    "from sklearn.model_selection import KFold\n",
    "import numpy as np\n",
    "import re\n",
    "from nltk.tokenize import word_tokenize\n",
    "from nltk.corpus import stopwords\n",
    "from nltk.stem import WordNetLemmatizer\n",
    "import matplotlib.pyplot as plt\n",
    "\n",
    "# Function to load data\n",
    "def load_data(path):\n",
    "    with open(path,encoding=\"utf8\") as f:\n",
    "        reader = csv.reader(f, delimiter='\\t')\n",
    "        for line in reader:\n",
    "            if line[0] == \"Id\":\n",
    "                continue\n",
    "            (label, text) = parse_data_line(line)\n",
    "            raw_data.append((text, label))\n",
    "            tuple(raw_data)\n",
    "\n",
    "# Function to split and preprocess data\n",
    "def split_and_preprocess_data(percentage):\n",
    "    \"\"\"Split the data between train_data and test_data according to the percentage\n",
    "    and performs the preprocessing.\"\"\"\n",
    "    num_samples = len(raw_data)\n",
    "    num_training_samples = int((percentage * num_samples))\n",
    "\n",
    "    for (text, label) in raw_data[:num_training_samples]:\n",
    "        train_data.append((to_feature_vector(pre_process(text)), label))\n",
    "\n",
    "    for (text, label) in raw_data[num_training_samples:]:\n",
    "        test_data.append((to_feature_vector(pre_process(text)), label))\n",
    "\n",
    "def parse_data_line(data_line):\n",
    "    label, text = data_line[1], data_line[2]\n",
    "    return (label, text)\n",
    "\n",
    "# Input: a string of one statement\n",
    "def pre_process(text):\n",
    "    # Tokenization\n",
    "    tokens = word_tokenize(text)\n",
    "\n",
    "    # Normalization and lemmatization\n",
    "    lemmatizer = WordNetLemmatizer()\n",
    "    tokens = [lemmatizer.lemmatize(token.lower()) for token in tokens]\n",
    "\n",
    "    # Remove stop words and punctuation\n",
    "    stop_words = set(stopwords.words('english'))\n",
    "    tokens = [token for token in tokens if token.isalnum() and token not in stop_words]\n",
    "\n",
    "    return tokens\n",
    "\n",
    "global_feature_dict = {}  # A global dictionary of features\n",
    "\n",
    "def to_feature_vector(tokens, label=None):\n",
    "    # Should return a dictionary containing features as keys, and weights as values\n",
    "    feature_vector = {}\n",
    "\n",
    "    # Example: Using unigram tokens\n",
    "    for token in tokens:\n",
    "        feature_key = token\n",
    "        feature_vector[feature_key] = 1\n",
    "\n",
    "        if feature_key in global_feature_dict:\n",
    "            global_feature_dict[feature_key] += 1\n",
    "        else:\n",
    "            global_feature_dict[feature_key] = 1\n",
    "\n",
    "    # Example: Using bigrams\n",
    "    bigrams = list(zip(tokens, tokens[1:]))\n",
    "    for bigram in bigrams:\n",
    "        feature_key = '_'.join(bigram)\n",
    "        feature_vector[feature_key] = 1\n",
    "\n",
    "        if feature_key in global_feature_dict:\n",
    "            global_feature_dict[feature_key] += 1\n",
    "        else:\n",
    "            global_feature_dict[feature_key] = 1\n",
    "\n",
    "    # Example: Using character n-grams (n=3)\n",
    "    char_ngrams = [token[i:i + 3] for token in tokens for i in range(len(token) - 2)]\n",
    "    for ngram in char_ngrams:\n",
    "        feature_key = ngram\n",
    "        feature_vector[feature_key] = 1\n",
    "\n",
    "        if feature_key in global_feature_dict:\n",
    "            global_feature_dict[feature_key] += 1\n",
    "        else:\n",
    "            global_feature_dict[feature_key] = 1\n",
    "\n",
    "    if label is not None:\n",
    "        feature_vector['_label_'] = label\n",
    "\n",
    "    return feature_vector\n",
    "\n",
    "def train_classifier(data):\n",
    "    print(\"Training Classifier...\")\n",
    "    pipeline = Pipeline([('svc', LinearSVC())])\n",
    "    return SklearnClassifier(pipeline).train(data)\n",
    "\n",
    "def cross_validate(dataset, folds):\n",
    "    results = {'precision': 0, 'recall': 0, 'f1': 0, 'accuracy': 0}\n",
    "    fold_size = int(len(dataset) / folds)\n",
    "\n",
    "    for i in range(folds):\n",
    "        print(\"Fold start on items %d - %d\" % (i * fold_size, (i + 1) * fold_size))\n",
    "\n",
    "        train_data_fold = dataset[:i * fold_size] + dataset[(i + 1) * fold_size:]\n",
    "        test_data_fold = dataset[i * fold_size: (i + 1) * fold_size]\n",
    "\n",
    "        classifier = train_classifier(train_data_fold)\n",
    "\n",
    "        test_true = [t[1] for t in test_data_fold]\n",
    "\n",
    "        if isinstance(test_data_fold[0][0], dict):\n",
    "            test_pred = predict_labels([x[0] for x in test_data_fold], classifier)\n",
    "        else:\n",
    "            test_pred = predict_labels([x[0] for x in test_data_fold], classifier)\n",
    "\n",
    "        fold_scores = precision_recall_fscore_support(test_true, test_pred, average='weighted')\n",
    "        fold_accuracy = accuracy_score(test_true, test_pred)\n",
    "\n",
    "        results['precision'] += fold_scores[0]\n",
    "        results['recall'] += fold_scores[1]\n",
    "        results['f1'] += fold_scores[2]\n",
    "        results['accuracy'] += fold_accuracy\n",
    "\n",
    "    results['precision'] /= folds\n",
    "    results['recall'] /= folds\n",
    "    results['f1'] /= folds\n",
    "    results['accuracy'] /= folds\n",
    "\n",
    "    return results\n",
    "\n",
    "# PREDICTING LABELS GIVEN A CLASSIFIER\n",
    "def predict_labels(samples, classifier):\n",
    "    return classifier.classify_many(samples)\n",
    "\n",
    "def predict_label_from_raw(sample, classifier):\n",
    "    preprocessed_sample = to_feature_vector(pre_process(sample))\n",
    "    return classifier.classify(preprocessed_sample)\n",
    "\n",
    "def confusion_matrix_heatmap(y_test, preds, labels):\n",
    "    cm = confusion_matrix(y_test, preds, labels=labels)\n",
    "    fig = plt.figure(figsize=(10,10))\n",
    "    ax = fig.add_subplot(111)\n",
    "    cax = ax.matshow(cm)\n",
    "    plt.title('Confusion matrix of the classifier')\n",
    "    fig.colorbar(cax)\n",
    "    ax.set_xticks(np.arange(len(labels)))\n",
    "    ax.set_yticks(np.arange(len(labels)))\n",
    "    ax.set_xticklabels(labels, rotation=45)\n",
    "    ax.set_yticklabels(labels)\n",
    "\n",
    "    for i in range(len(cm)):\n",
    "        for j in range(len(cm)):\n",
    "            text = ax.text(j, i, cm[i, j],\n",
    "                           ha=\"center\", va=\"center\", color=\"w\")\n",
    "\n",
    "    plt.xlabel('Predicted')\n",
    "    plt.ylabel('True')\n",
    "\n",
    "    b, t = plt.ylim()\n",
    "    b += 0.5\n",
    "    t -= 0.5\n",
    "    plt.ylim(b, t)\n",
    "    plt.show()\n",
    "\n",
    "def error_analysis(true_labels, predicted_labels, data):\n",
    "    false_positives = []\n",
    "    false_negatives = []\n",
    "    for i in range(len(true_labels)):\n",
    "        if true_labels[i] == 'positive' and predicted_labels[i] == 'negative':\n",
    "            false_negatives.append(data[i])\n",
    "        elif true_labels[i] == 'negative' and predicted_labels[i] == 'positive':\n",
    "            false_positives.append(data[i])\n",
    "\n",
    "    # Print or save false positives and false negatives to files\n",
    "    print_errors_to_file(false_positives, 'false_positives.txt')\n",
    "    print_errors_to_file(false_negatives, 'false_negatives.txt')\n",
    "\n",
    "def print_errors_to_file(errors, filename):\n",
    "    with open(filename, 'w', encoding=\"utf8\") as f:\n",
    "        for error in errors:\n",
    "            text, label = error\n",
    "            f.write(f\"Label: {label}, Text: {text}\\n\\n\")\n",
    "\n",
    "# MAIN\n",
    "raw_data = []\n",
    "train_data = []\n",
    "test_data = []\n",
    "\n",
    "data_file_path = 'sentiment-dataset.tsv'\n",
    "\n",
    "print(\"Now %d rawData, %d trainData, %d testData\" % (len(raw_data), len(train_data), len(test_data)),\n",
    "      \"Preparing the dataset...\", sep='\\n')\n",
    "\n",
    "load_data(data_file_path)\n",
    "\n",
    "print(\"Now %d rawData, %d trainData, %d testData\" % (len(raw_data), len(train_data), len(test_data)),\n",
    "      \"Preparing training and test data...\", sep='\\n')\n",
    "\n",
    "split_and_preprocess_data(0.8)\n",
    "\n",
    "print(\"After split, %d rawData, %d trainData, %d testData\" % (len(raw_data), len(train_data), len(test_data)),\n",
    "      \"Training Samples: \", len(train_data), \"Features: \", len(global_feature_dict), sep='\\n')\n",
    "\n",
    "tokenized_train_data = train_data\n",
    "\n",
    "cross_validation_results = cross_validate(tokenized_train_data, 10)\n",
    "print(\"Cross-validation results:\")\n",
    "for metric, value in cross_validation_results.items():\n",
    "    print(f\"{metric}: {value}\")\n",
    "\n",
    "# Train classifier\n",
    "classifier = train_classifier(train_data)\n",
    "# Predict labels\n",
    "true_labels = [sample[1] for sample in test_data]\n",
    "predicted_labels = predict_labels([sample[0] for sample in test_data], classifier)\n",
    "data = test_data\n",
    "\n",
    "# Perform error analysis\n",
    "error_analysis(true_labels, predicted_labels, data)\n",
    "\n",
    "# Plot confusion matrix\n",
    "print('The confusion matrix: ')\n",
    "confusion_matrix_heatmap(true_labels, predicted_labels, labels=['positive', 'negative'])"
   ]
  },
  {
   "cell_type": "code",
   "execution_count": 2,
   "metadata": {
    "colab": {
     "base_uri": "https://localhost:8080/",
     "height": 1000
    },
    "id": "_RvgrHoMvn-b",
    "outputId": "2deefe86-ef8b-4a06-90c3-fc5b6a3ed9a9"
   },
   "outputs": [
    {
     "name": "stderr",
     "output_type": "stream",
     "text": [
      "[nltk_data] Downloading package punkt to\n",
      "[nltk_data]     C:\\Users\\Admin\\AppData\\Roaming\\nltk_data...\n",
      "[nltk_data]   Package punkt is already up-to-date!\n",
      "[nltk_data] Downloading package wordnet to\n",
      "[nltk_data]     C:\\Users\\Admin\\AppData\\Roaming\\nltk_data...\n",
      "[nltk_data]   Package wordnet is already up-to-date!\n",
      "[nltk_data] Downloading package stopwords to\n",
      "[nltk_data]     C:\\Users\\Admin\\AppData\\Roaming\\nltk_data...\n",
      "[nltk_data]   Package stopwords is already up-to-date!\n"
     ]
    },
    {
     "name": "stdout",
     "output_type": "stream",
     "text": [
      "Now 0 rawData, 0 trainData, 0 testData\n",
      "Preparing the dataset...\n",
      "Now 33540 rawData, 0 trainData, 0 testData\n",
      "Preparing training and test data...\n",
      "After split, 33540 rawData, 26832 trainData, 6708 testData\n",
      "Training Samples: \n",
      "26832\n",
      "Features: \n",
      "327621\n",
      "Fold start on items 0 - 2683\n",
      "Training Classifier...\n"
     ]
    },
    {
     "name": "stderr",
     "output_type": "stream",
     "text": [
      "C:\\Users\\Admin\\anaconda3\\Lib\\site-packages\\sklearn\\svm\\_classes.py:32: FutureWarning: The default value of `dual` will change from `True` to `'auto'` in 1.5. Set the value of `dual` explicitly to suppress the warning.\n",
      "  warnings.warn(\n",
      "C:\\Users\\Admin\\anaconda3\\Lib\\site-packages\\sklearn\\svm\\_base.py:1242: ConvergenceWarning: Liblinear failed to converge, increase the number of iterations.\n",
      "  warnings.warn(\n"
     ]
    },
    {
     "name": "stdout",
     "output_type": "stream",
     "text": [
      "Fold start on items 2683 - 5366\n",
      "Training Classifier...\n"
     ]
    },
    {
     "name": "stderr",
     "output_type": "stream",
     "text": [
      "C:\\Users\\Admin\\anaconda3\\Lib\\site-packages\\sklearn\\svm\\_classes.py:32: FutureWarning: The default value of `dual` will change from `True` to `'auto'` in 1.5. Set the value of `dual` explicitly to suppress the warning.\n",
      "  warnings.warn(\n",
      "C:\\Users\\Admin\\anaconda3\\Lib\\site-packages\\sklearn\\svm\\_base.py:1242: ConvergenceWarning: Liblinear failed to converge, increase the number of iterations.\n",
      "  warnings.warn(\n"
     ]
    },
    {
     "name": "stdout",
     "output_type": "stream",
     "text": [
      "Fold start on items 5366 - 8049\n",
      "Training Classifier...\n"
     ]
    },
    {
     "name": "stderr",
     "output_type": "stream",
     "text": [
      "C:\\Users\\Admin\\anaconda3\\Lib\\site-packages\\sklearn\\svm\\_classes.py:32: FutureWarning: The default value of `dual` will change from `True` to `'auto'` in 1.5. Set the value of `dual` explicitly to suppress the warning.\n",
      "  warnings.warn(\n",
      "C:\\Users\\Admin\\anaconda3\\Lib\\site-packages\\sklearn\\svm\\_base.py:1242: ConvergenceWarning: Liblinear failed to converge, increase the number of iterations.\n",
      "  warnings.warn(\n"
     ]
    },
    {
     "name": "stdout",
     "output_type": "stream",
     "text": [
      "Fold start on items 8049 - 10732\n",
      "Training Classifier...\n"
     ]
    },
    {
     "name": "stderr",
     "output_type": "stream",
     "text": [
      "C:\\Users\\Admin\\anaconda3\\Lib\\site-packages\\sklearn\\svm\\_classes.py:32: FutureWarning: The default value of `dual` will change from `True` to `'auto'` in 1.5. Set the value of `dual` explicitly to suppress the warning.\n",
      "  warnings.warn(\n",
      "C:\\Users\\Admin\\anaconda3\\Lib\\site-packages\\sklearn\\svm\\_base.py:1242: ConvergenceWarning: Liblinear failed to converge, increase the number of iterations.\n",
      "  warnings.warn(\n"
     ]
    },
    {
     "name": "stdout",
     "output_type": "stream",
     "text": [
      "Fold start on items 10732 - 13415\n",
      "Training Classifier...\n"
     ]
    },
    {
     "name": "stderr",
     "output_type": "stream",
     "text": [
      "C:\\Users\\Admin\\anaconda3\\Lib\\site-packages\\sklearn\\svm\\_classes.py:32: FutureWarning: The default value of `dual` will change from `True` to `'auto'` in 1.5. Set the value of `dual` explicitly to suppress the warning.\n",
      "  warnings.warn(\n",
      "C:\\Users\\Admin\\anaconda3\\Lib\\site-packages\\sklearn\\svm\\_base.py:1242: ConvergenceWarning: Liblinear failed to converge, increase the number of iterations.\n",
      "  warnings.warn(\n"
     ]
    },
    {
     "name": "stdout",
     "output_type": "stream",
     "text": [
      "Fold start on items 13415 - 16098\n",
      "Training Classifier...\n"
     ]
    },
    {
     "name": "stderr",
     "output_type": "stream",
     "text": [
      "C:\\Users\\Admin\\anaconda3\\Lib\\site-packages\\sklearn\\svm\\_classes.py:32: FutureWarning: The default value of `dual` will change from `True` to `'auto'` in 1.5. Set the value of `dual` explicitly to suppress the warning.\n",
      "  warnings.warn(\n",
      "C:\\Users\\Admin\\anaconda3\\Lib\\site-packages\\sklearn\\svm\\_base.py:1242: ConvergenceWarning: Liblinear failed to converge, increase the number of iterations.\n",
      "  warnings.warn(\n"
     ]
    },
    {
     "name": "stdout",
     "output_type": "stream",
     "text": [
      "Fold start on items 16098 - 18781\n",
      "Training Classifier...\n"
     ]
    },
    {
     "name": "stderr",
     "output_type": "stream",
     "text": [
      "C:\\Users\\Admin\\anaconda3\\Lib\\site-packages\\sklearn\\svm\\_classes.py:32: FutureWarning: The default value of `dual` will change from `True` to `'auto'` in 1.5. Set the value of `dual` explicitly to suppress the warning.\n",
      "  warnings.warn(\n",
      "C:\\Users\\Admin\\anaconda3\\Lib\\site-packages\\sklearn\\svm\\_base.py:1242: ConvergenceWarning: Liblinear failed to converge, increase the number of iterations.\n",
      "  warnings.warn(\n"
     ]
    },
    {
     "name": "stdout",
     "output_type": "stream",
     "text": [
      "Fold start on items 18781 - 21464\n",
      "Training Classifier...\n"
     ]
    },
    {
     "name": "stderr",
     "output_type": "stream",
     "text": [
      "C:\\Users\\Admin\\anaconda3\\Lib\\site-packages\\sklearn\\svm\\_classes.py:32: FutureWarning: The default value of `dual` will change from `True` to `'auto'` in 1.5. Set the value of `dual` explicitly to suppress the warning.\n",
      "  warnings.warn(\n",
      "C:\\Users\\Admin\\anaconda3\\Lib\\site-packages\\sklearn\\svm\\_base.py:1242: ConvergenceWarning: Liblinear failed to converge, increase the number of iterations.\n",
      "  warnings.warn(\n"
     ]
    },
    {
     "name": "stdout",
     "output_type": "stream",
     "text": [
      "Fold start on items 21464 - 24147\n",
      "Training Classifier...\n"
     ]
    },
    {
     "name": "stderr",
     "output_type": "stream",
     "text": [
      "C:\\Users\\Admin\\anaconda3\\Lib\\site-packages\\sklearn\\svm\\_classes.py:32: FutureWarning: The default value of `dual` will change from `True` to `'auto'` in 1.5. Set the value of `dual` explicitly to suppress the warning.\n",
      "  warnings.warn(\n",
      "C:\\Users\\Admin\\anaconda3\\Lib\\site-packages\\sklearn\\svm\\_base.py:1242: ConvergenceWarning: Liblinear failed to converge, increase the number of iterations.\n",
      "  warnings.warn(\n"
     ]
    },
    {
     "name": "stdout",
     "output_type": "stream",
     "text": [
      "Fold start on items 24147 - 26830\n",
      "Training Classifier...\n"
     ]
    },
    {
     "name": "stderr",
     "output_type": "stream",
     "text": [
      "C:\\Users\\Admin\\anaconda3\\Lib\\site-packages\\sklearn\\svm\\_classes.py:32: FutureWarning: The default value of `dual` will change from `True` to `'auto'` in 1.5. Set the value of `dual` explicitly to suppress the warning.\n",
      "  warnings.warn(\n",
      "C:\\Users\\Admin\\anaconda3\\Lib\\site-packages\\sklearn\\svm\\_base.py:1242: ConvergenceWarning: Liblinear failed to converge, increase the number of iterations.\n",
      "  warnings.warn(\n"
     ]
    },
    {
     "name": "stdout",
     "output_type": "stream",
     "text": [
      "Cross-validation results:\n",
      "precision: 0.8446975613607265\n",
      "recall: 0.846552366753634\n",
      "f1: 0.8450740113199814\n",
      "accuracy: 0.846552366753634\n",
      "Training Classifier...\n"
     ]
    },
    {
     "name": "stderr",
     "output_type": "stream",
     "text": [
      "C:\\Users\\Admin\\anaconda3\\Lib\\site-packages\\sklearn\\svm\\_classes.py:32: FutureWarning: The default value of `dual` will change from `True` to `'auto'` in 1.5. Set the value of `dual` explicitly to suppress the warning.\n",
      "  warnings.warn(\n",
      "C:\\Users\\Admin\\anaconda3\\Lib\\site-packages\\sklearn\\svm\\_base.py:1242: ConvergenceWarning: Liblinear failed to converge, increase the number of iterations.\n",
      "  warnings.warn(\n"
     ]
    },
    {
     "name": "stdout",
     "output_type": "stream",
     "text": [
      "The confusion matrix: \n"
     ]
    },
    {
     "data": {
      "image/png": "[encoded data removed]",
      "text/plain": [
       "<Figure size 1000x1000 with 2 Axes>"
      ]
     },
     "metadata": {},
     "output_type": "display_data"
    }
   ],
   "source": [
    "# 5th question working improvised (Iteration 2)\n",
    "import nltk\n",
    "nltk.download('punkt')\n",
    "nltk.download('wordnet')\n",
    "nltk.download('stopwords')\n",
    "import csv\n",
    "from sklearn.svm import LinearSVC\n",
    "from nltk.classify import SklearnClassifier\n",
    "from sklearn.pipeline import Pipeline\n",
    "from sklearn.feature_extraction.text import TfidfVectorizer\n",
    "from sklearn.feature_selection import SelectKBest, chi2\n",
    "from sklearn.metrics import precision_recall_fscore_support, accuracy_score, confusion_matrix\n",
    "from sklearn.model_selection import KFold\n",
    "import numpy as np\n",
    "import re\n",
    "from nltk.tokenize import word_tokenize\n",
    "from nltk.corpus import stopwords\n",
    "from nltk.stem import WordNetLemmatizer\n",
    "import matplotlib.pyplot as plt\n",
    "\n",
    "# Function to load data\n",
    "def load_data(path):\n",
    "    with open(path,encoding=\"utf8\") as f:\n",
    "        reader = csv.reader(f, delimiter='\\t')\n",
    "        for line in reader:\n",
    "            if line[0] == \"Id\":\n",
    "                continue\n",
    "            (label, text) = parse_data_line(line)\n",
    "            raw_data.append((text, label))\n",
    "            tuple(raw_data)\n",
    "\n",
    "# Function to split and preprocess data\n",
    "def split_and_preprocess_data(percentage):\n",
    "    \"\"\"Split the data between train_data and test_data according to the percentage\n",
    "    and performs the preprocessing.\"\"\"\n",
    "    num_samples = len(raw_data)\n",
    "    num_training_samples = int((percentage * num_samples))\n",
    "\n",
    "    for (text, label) in raw_data[:num_training_samples]:\n",
    "        train_data.append((to_feature_vector(pre_process(text)), label))\n",
    "\n",
    "    for (text, label) in raw_data[num_training_samples:]:\n",
    "        test_data.append((to_feature_vector(pre_process(text)), label))\n",
    "\n",
    "def parse_data_line(data_line):\n",
    "    label, text = data_line[1], data_line[2]\n",
    "    return (label, text)\n",
    "\n",
    "def words_per_sentence(text):\n",
    "    sentences = nltk.sent_tokenize(text)\n",
    "    return [len(nltk.word_tokenize(sentence)) for sentence in sentences]\n",
    "\n",
    "# Modify the pre_process function to include the number of words per sentence\n",
    "def pre_process(text):\n",
    "    # Tokenization\n",
    "    tokens = word_tokenize(text)\n",
    "\n",
    "    # Normalization and lemmatization\n",
    "    lemmatizer = WordNetLemmatizer()\n",
    "    tokens = [lemmatizer.lemmatize(token.lower()) for token in tokens]\n",
    "\n",
    "    # Remove stop words and punctuation\n",
    "    stop_words = set(stopwords.words('english'))\n",
    "    tokens = [token for token in tokens if token.isalnum() and token not in stop_words]\n",
    "\n",
    "    # Calculate number of words per sentence\n",
    "    words_per_sentence_list = words_per_sentence(text)\n",
    "\n",
    "    return tokens + words_per_sentence_list\n",
    "\n",
    "def to_feature_vector(tokens, label=None):\n",
    "    # Should return a dictionary containing features as keys, and weights as values\n",
    "    feature_vector = {}\n",
    "\n",
    "    # Example: Using unigram tokens\n",
    "    for token in tokens:\n",
    "        feature_key = str(token)  # Convert to string\n",
    "        feature_vector[feature_key] = 1\n",
    "\n",
    "        if feature_key in global_feature_dict:\n",
    "            global_feature_dict[feature_key] += 1\n",
    "        else:\n",
    "            global_feature_dict[feature_key] = 1\n",
    "\n",
    "    # Example: Using bigrams\n",
    "    bigrams = list(zip(map(str, tokens), map(str, tokens[1:])))\n",
    "    for bigram in bigrams:\n",
    "        feature_key = '_'.join(bigram)\n",
    "        feature_vector[feature_key] = 1\n",
    "\n",
    "        if feature_key in global_feature_dict:\n",
    "            global_feature_dict[feature_key] += 1\n",
    "        else:\n",
    "            global_feature_dict[feature_key] = 1\n",
    "\n",
    "    # Example: Using character n-grams (n=3)\n",
    "    char_ngrams = [str(token)[i:i + 3] for token in tokens if isinstance(token, str) for i in range(len(str(token)) - 2)]\n",
    "    for ngram in char_ngrams:\n",
    "        feature_key = ngram\n",
    "        feature_vector[feature_key] = 1\n",
    "\n",
    "        if feature_key in global_feature_dict:\n",
    "            global_feature_dict[feature_key] += 1\n",
    "        else:\n",
    "            global_feature_dict[feature_key] = 1\n",
    "\n",
    "    # Example: Adding the number of words per sentence\n",
    "    words_per_sentence_list = tokens[len(tokens) // 2:]\n",
    "    for idx, num_words in enumerate(words_per_sentence_list):\n",
    "        feature_key = f'words_per_sentence_{idx}'\n",
    "        feature_vector[feature_key] = num_words\n",
    "\n",
    "        if feature_key in global_feature_dict:\n",
    "            global_feature_dict[feature_key] += 1\n",
    "        else:\n",
    "            global_feature_dict[feature_key] = 1\n",
    "\n",
    "    if label is not None:\n",
    "        feature_vector['_label_'] = label\n",
    "\n",
    "    return feature_vector\n",
    "\n",
    "def train_classifier(data):\n",
    "    print(\"Training Classifier...\")\n",
    "    pipeline = Pipeline([('svc', LinearSVC())])\n",
    "    return SklearnClassifier(pipeline).train(data)\n",
    "\n",
    "def cross_validate(dataset, folds):\n",
    "    results = {'precision': 0, 'recall': 0, 'f1': 0, 'accuracy': 0}\n",
    "    fold_size = int(len(dataset) / folds)\n",
    "\n",
    "    for i in range(folds):\n",
    "        print(\"Fold start on items %d - %d\" % (i * fold_size, (i + 1) * fold_size))\n",
    "\n",
    "        # Split the data into training and test sets for this fold\n",
    "        train_data_fold = dataset[:i * fold_size] + dataset[(i + 1) * fold_size:]\n",
    "        test_data_fold = dataset[i * fold_size: (i + 1) * fold_size]\n",
    "\n",
    "        # Train the classifier on the training fold\n",
    "        classifier = train_classifier(train_data_fold)\n",
    "\n",
    "        # Test the classifier on the test fold\n",
    "        test_true = [t[1] for t in test_data_fold]\n",
    "\n",
    "        # Check the type of input data\n",
    "        if isinstance(test_data_fold[0][0], dict):  # Check if it's a dictionary\n",
    "            test_pred = predict_labels([x[0] for x in test_data_fold], classifier)\n",
    "        else:  # Assume it's a sparse matrix\n",
    "            test_pred = predict_labels([x[0] for x in test_data_fold], classifier)\n",
    "\n",
    "        # Evaluate the classifier's performance\n",
    "        fold_scores = precision_recall_fscore_support(test_true, test_pred, average='weighted')\n",
    "        fold_accuracy = accuracy_score(test_true, test_pred)\n",
    "\n",
    "        # Update the results dictionary with fold scores\n",
    "        results['precision'] += fold_scores[0]\n",
    "        results['recall'] += fold_scores[1]\n",
    "        results['f1'] += fold_scores[2]\n",
    "        results['accuracy'] += fold_accuracy\n",
    "\n",
    "    # Calculate average scores\n",
    "    results['precision'] /= folds\n",
    "    results['recall'] /= folds\n",
    "    results['f1'] /= folds\n",
    "    results['accuracy'] /= folds\n",
    "\n",
    "    return results\n",
    "\n",
    "# PREDICTING LABELS GIVEN A CLASSIFIER\n",
    "def predict_labels(samples, classifier):\n",
    "    \"\"\"Assuming preprocessed samples, return their predicted labels from the classifier model.\"\"\"\n",
    "    return classifier.classify_many(samples)\n",
    "\n",
    "def predict_label_from_raw(sample, classifier):\n",
    "    \"\"\"Assuming raw text, return its predicted label from the classifier model.\"\"\"\n",
    "    preprocessed_sample = to_feature_vector(pre_process(sample))\n",
    "    return classifier.classify(preprocessed_sample)\n",
    "\n",
    "def confusion_matrix_heatmap(y_test, preds, labels):\n",
    "    cm = confusion_matrix(y_test, preds, labels=labels)\n",
    "    fig = plt.figure(figsize=(10,10))\n",
    "    ax = fig.add_subplot(111)\n",
    "    cax = ax.matshow(cm)\n",
    "    plt.title('Confusion matrix of the classifier')\n",
    "    fig.colorbar(cax)\n",
    "    ax.set_xticks(np.arange(len(labels)))\n",
    "    ax.set_yticks(np.arange(len(labels)))\n",
    "    ax.set_xticklabels(labels, rotation=45)\n",
    "    ax.set_yticklabels(labels)\n",
    "\n",
    "    for i in range(len(cm)):\n",
    "        for j in range(len(cm)):\n",
    "            text = ax.text(j, i, cm[i, j],\n",
    "                           ha=\"center\", va=\"center\", color=\"w\")\n",
    "\n",
    "    plt.xlabel('Predicted')\n",
    "    plt.ylabel('True')\n",
    "\n",
    "    b, t = plt.ylim()\n",
    "    b += 0.5\n",
    "    t -= 0.5\n",
    "    plt.ylim(b, t)\n",
    "    plt.show()\n",
    "\n",
    "def error_analysis(true_labels, predicted_labels, data):\n",
    "    false_positives = []\n",
    "    false_negatives = []\n",
    "    for i in range(len(true_labels)):\n",
    "        if true_labels[i] == 'positive' and predicted_labels[i] == 'negative':\n",
    "            false_negatives.append(data[i])\n",
    "        elif true_labels[i] == 'negative' and predicted_labels[i] == 'positive':\n",
    "            false_positives.append(data[i])\n",
    "\n",
    "    # Print or save false positives and false negatives to files\n",
    "    print_errors_to_file(false_positives, 'false_positives.txt')\n",
    "    print_errors_to_file(false_negatives, 'false_negatives.txt')\n",
    "\n",
    "def print_errors_to_file(errors, filename):\n",
    "    with open(filename, 'w', encoding=\"utf8\") as f:\n",
    "        for error in errors:\n",
    "            text, label = error\n",
    "            f.write(f\"Label: {label}, Text: {text}\\n\\n\")\n",
    "\n",
    "# MAIN\n",
    "raw_data = []\n",
    "train_data = []\n",
    "test_data = []\n",
    "\n",
    "data_file_path = 'sentiment-dataset.tsv'\n",
    "\n",
    "print(\"Now %d rawData, %d trainData, %d testData\" % (len(raw_data), len(train_data), len(test_data)),\n",
    "      \"Preparing the dataset...\", sep='\\n')\n",
    "\n",
    "load_data(data_file_path)\n",
    "\n",
    "print(\"Now %d rawData, %d trainData, %d testData\" % (len(raw_data), len(train_data), len(test_data)),\n",
    "      \"Preparing training and test data...\", sep='\\n')\n",
    "\n",
    "split_and_preprocess_data(0.8)\n",
    "\n",
    "print(\"After split, %d rawData, %d trainData, %d testData\" % (len(raw_data), len(train_data), len(test_data)),\n",
    "      \"Training Samples: \", len(train_data), \"Features: \", len(global_feature_dict), sep='\\n')\n",
    "\n",
    "tokenized_train_data = train_data\n",
    "\n",
    "cross_validation_results = cross_validate(tokenized_train_data, 10)\n",
    "print(\"Cross-validation results:\")\n",
    "for metric, value in cross_validation_results.items():\n",
    "    print(f\"{metric}: {value}\")\n",
    "\n",
    "# Train classifier\n",
    "classifier = train_classifier(train_data)\n",
    "# Predict labels\n",
    "true_labels = [sample[1] for sample in test_data]\n",
    "predicted_labels = predict_labels([sample[0] for sample in test_data], classifier)\n",
    "data = test_data\n",
    "\n",
    "# Perform error analysis\n",
    "error_analysis(true_labels, predicted_labels, data)\n",
    "\n",
    "# Plot confusion matrix\n",
    "print('The confusion matrix: ')\n",
    "confusion_matrix_heatmap(true_labels, predicted_labels, labels=['positive', 'negative'])"
   ]
  },
  {
   "cell_type": "code",
   "execution_count": 3,
   "metadata": {
    "colab": {
     "base_uri": "https://localhost:8080/"
    },
    "id": "y1kJxtIqBQOO",
    "outputId": "56e405d1-f8dc-41fd-c54c-9dcdd2d94505"
   },
   "outputs": [
    {
     "name": "stdout",
     "output_type": "stream",
     "text": [
      "({'tomorrow': 1, 'release': 1, '58th': 1, 'episode': 1, 'hsonair': 1, 'profiling': 1, 'alissadossantos': 1, 'talk': 1, 'storytelling': 1, 'beyonce': 1, '17': 1, '8': 1, 'tomorrow_release': 1, 'release_58th': 1, '58th_episode': 1, 'episode_hsonair': 1, 'hsonair_profiling': 1, 'profiling_alissadossantos': 1, 'alissadossantos_talk': 1, 'talk_storytelling': 1, 'storytelling_beyonce': 1, 'beyonce_17': 1, '17_8': 1, 'tom': 1, 'omo': 1, 'mor': 1, 'orr': 1, 'rro': 1, 'row': 1, 'rel': 1, 'ele': 1, 'lea': 1, 'eas': 1, 'ase': 1, '58t': 1, '8th': 1, 'epi': 1, 'pis': 1, 'iso': 1, 'sod': 1, 'ode': 1, 'hso': 1, 'son': 1, 'ona': 1, 'nai': 1, 'air': 1, 'pro': 1, 'rof': 1, 'ofi': 1, 'fil': 1, 'ili': 1, 'lin': 1, 'ing': 1, 'ali': 1, 'lis': 1, 'iss': 1, 'ssa': 1, 'sad': 1, 'ado': 1, 'dos': 1, 'oss': 1, 'san': 1, 'ant': 1, 'nto': 1, 'tos': 1, 'tal': 1, 'alk': 1, 'sto': 1, 'tor': 1, 'ory': 1, 'ryt': 1, 'yte': 1, 'tel': 1, 'ell': 1, 'lli': 1, 'bey': 1, 'eyo': 1, 'yon': 1, 'onc': 1, 'nce': 1, 'words_per_sentence_0': 'alissadossantos', 'words_per_sentence_1': 'talk', 'words_per_sentence_2': 'storytelling', 'words_per_sentence_3': 'beyonce', 'words_per_sentence_4': 17, 'words_per_sentence_5': 8}, 'positive')\n",
      "Training Classifier...\n"
     ]
    },
    {
     "name": "stderr",
     "output_type": "stream",
     "text": [
      "C:\\Users\\Admin\\anaconda3\\Lib\\site-packages\\sklearn\\svm\\_classes.py:32: FutureWarning: The default value of `dual` will change from `True` to `'auto'` in 1.5. Set the value of `dual` explicitly to suppress the warning.\n",
      "  warnings.warn(\n",
      "C:\\Users\\Admin\\anaconda3\\Lib\\site-packages\\sklearn\\svm\\_base.py:1242: ConvergenceWarning: Liblinear failed to converge, increase the number of iterations.\n",
      "  warnings.warn(\n"
     ]
    },
    {
     "name": "stdout",
     "output_type": "stream",
     "text": [
      "Done training!\n",
      "Precision: 0.847607\n",
      "Recall: 0.848986\n",
      "F Score:0.847997\n"
     ]
    }
   ],
   "source": [
    "functions_complete = True  # set to True once you're happy with your methods for cross val\n",
    "if functions_complete:\n",
    "    print(test_data[0])   # have a look at the first test data instance\n",
    "    classifier = train_classifier(train_data)  # train the classifier\n",
    "    test_true = [t[1] for t in test_data]   # get the ground-truth labels from the data\n",
    "    test_pred = predict_labels([x[0] for x in test_data], classifier)  # classify the test data to get predicted labels\n",
    "    final_scores = precision_recall_fscore_support(test_true, test_pred, average='weighted') # evaluate\n",
    "    print(\"Done training!\")\n",
    "    print(\"Precision: %f\\nRecall: %f\\nF Score:%f\" % final_scores[:3])"
   ]
  },
  {
   "cell_type": "code",
   "execution_count": null,
   "metadata": {
    "id": "yNUk-ty2GSPp"
   },
   "outputs": [],
   "source": []
  }
 ],
 "metadata": {
  "accelerator": "GPU",
  "colab": {
   "gpuType": "T4",
   "provenance": []
  },
  "kernelspec": {
   "display_name": "Python 3 (ipykernel)",
   "language": "python",
   "name": "python3"
  },
  "language_info": {
   "codemirror_mode": {
    "name": "ipython",
    "version": 3
   },
   "file_extension": ".py",
   "mimetype": "text/x-python",
   "name": "python",
   "nbconvert_exporter": "python",
   "pygments_lexer": "ipython3",
   "version": "3.11.5"
  }
 },
 "nbformat": 4,
 "nbformat_minor": 1
}
